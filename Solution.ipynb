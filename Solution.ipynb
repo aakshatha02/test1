{
 "cells": [
  {
   "cell_type": "code",
   "execution_count": null,
   "id": "e3fc3303",
   "metadata": {},
   "outputs": [
    {
     "name": "stdout",
     "output_type": "stream",
     "text": [
      "Requirement already satisfied: duckdb in /Library/Frameworks/Python.framework/Versions/3.11/lib/python3.11/site-packages (1.3.2)\n",
      "\n",
      "\u001b[1m[\u001b[0m\u001b[34;49mnotice\u001b[0m\u001b[1;39;49m]\u001b[0m\u001b[39;49m A new release of pip is available: \u001b[0m\u001b[31;49m24.0\u001b[0m\u001b[39;49m -> \u001b[0m\u001b[32;49m25.1.1\u001b[0m\n",
      "\u001b[1m[\u001b[0m\u001b[34;49mnotice\u001b[0m\u001b[1;39;49m]\u001b[0m\u001b[39;49m To update, run: \u001b[0m\u001b[32;49mpip3 install --upgrade pip\u001b[0m\n",
      "Note: you may need to restart the kernel to use updated packages.\n"
     ]
    }
   ],
   "source": [
    "#Install the dependecies\n",
    "pip install duckdb"
   ]
  },
  {
   "cell_type": "code",
   "execution_count": null,
   "id": "fa6a5b00",
   "metadata": {},
   "outputs": [],
   "source": [
    "#import the packages\n",
    "import json\n",
    "from datetime import datetime\n",
    "import duckdb"
   ]
  },
  {
   "cell_type": "markdown",
   "id": "afe8c84e",
   "metadata": {},
   "source": [
    "### Task 1 Data Ingestion"
   ]
  },
  {
   "cell_type": "markdown",
   "id": "c4813d12",
   "metadata": {},
   "source": [
    "##### I went with flat schema using just one listens table. Since the dataset doesn’t include much user or track metadata, breaking it into multiple normalized tables (like separate user or track tables) would only add extra joins without really helping performance or storage. The analysis tasks are mostly read-heavy and focus on aggregations, so keeping everything in one table made the queries faster and the structure easier to work with.\n",
    "\n",
    "##### Most of the other columns (release_mbid, recording_mbid, release_group_mbid, artist_mbids, etc.) are  null or empty arrays.\n",
    "- For this assignment, including those doesn’t add value.\n",
    "\n",
    "- Hence I skiped them to keep the table lean and focused.\n",
    "\n",
    "##### To avoid duplicates, I used the following combination as a UNIQUE constraint:\n",
    "- (user_name, recording_msid, listened_at)\n",
    "\n",
    "##### For faster querying by date, I added a listened_date column and created an index on it:\n",
    "- CREATE INDEX idx_listens_listened_date ON listens(listened_date)"
   ]
  },
  {
   "cell_type": "code",
   "execution_count": null,
   "id": "47b41c68",
   "metadata": {},
   "outputs": [
    {
     "name": "stdout",
     "output_type": "stream",
     "text": [
      "ETL load complete.\n",
      "┌────────────┬──────────────────────┬────────────────────────────────────┬────────────────────────────────────────────────────────────────┬─────────────────────┬──────────────────────────────────────┬──────────────────────────────────────┬──────────────────────────────────────┬───────────────┐\n",
      "│ user_name  │     artist_name      │             track_name             │                          release_name                          │     listened_at     │            recording_msid            │             artist_msid              │             release_msid             │ listened_date │\n",
      "│  varchar   │       varchar        │              varchar               │                            varchar                             │      timestamp      │               varchar                │               varchar                │               varchar                │     date      │\n",
      "├────────────┼──────────────────────┼────────────────────────────────────┼────────────────────────────────────────────────────────────────┼─────────────────────┼──────────────────────────────────────┼──────────────────────────────────────┼──────────────────────────────────────┼───────────────┤\n",
      "│ NichoBI    │ Withered Hand        │ Love In the Time of Ecstacy        │ Good News                                                      │ 2019-04-15 02:02:40 │ 1e1b2aa0-b2db-42ed-a8ba-89c303499408 │ f1d39567-27e7-40af-852a-abaed88ec838 │ 34dbfc73-31e4-45c3-9d6e-04d8b6c5fd4a │ 2019-04-15    │\n",
      "│ NichoBI    │ Withered Hand        │ Cornflake                          │ Good News                                                      │ 2019-04-15 01:59:38 │ 283062c8-75e2-406a-8c5e-f38136aa5a68 │ f1d39567-27e7-40af-852a-abaed88ec838 │ 34dbfc73-31e4-45c3-9d6e-04d8b6c5fd4a │ 2019-04-15    │\n",
      "│ NichoBI    │ Withered Hand        │ Providence                         │ Good News                                                      │ 2019-04-15 01:55:37 │ 8fe0c93d-f44a-4159-b069-5cc3c2e9c16b │ f1d39567-27e7-40af-852a-abaed88ec838 │ 34dbfc73-31e4-45c3-9d6e-04d8b6c5fd4a │ 2019-04-15    │\n",
      "│ NichoBI    │ Bob Dylan            │ Boots of Spanish Leather           │ The Times They Are A-Changin'                                  │ 2019-04-14 14:52:40 │ 5998f0ac-2350-4ee9-9033-80e628326a67 │ 75c5f0fe-ff02-4f36-bd79-9db14041b6d2 │ 50641a36-5ba8-4eee-8a07-818538a29f0a │ 2019-04-14    │\n",
      "│ NichoBI    │ Cat Stevens          │ Trouble                            │ Mona Bone Jakon                                                │ 2019-04-14 14:49:51 │ e3912d35-54e4-421e-af93-925c7d27650b │ 5218f845-2406-4c3b-8cfa-6ae7881761e8 │ 023f9c27-9681-4ad9-9123-660a41776ee3 │ 2019-04-14    │\n",
      "│ NichoBI    │ Cat Stevens          │ How Many Times                     │ Foreigner (Remastered)                                         │ 2019-04-14 14:45:22 │ b6c05e44-bd1b-437e-9f02-f6e9367aea6d │ 5218f845-2406-4c3b-8cfa-6ae7881761e8 │ 2f6d1463-2aca-46ee-9bce-b6d61857d187 │ 2019-04-14    │\n",
      "│ NichoBI    │ Yorkston/Thorne/Khan │ One More Day (Jon's Song)          │ Neuk Wight Delhi All-Stars                                     │ 2019-04-14 14:43:13 │ b7a99bd0-1dc5-4e2b-8466-5b3864fe85dd │ 54a3ad2a-a98e-436f-b0bf-8e48c4b79106 │ b8ce6fed-2e54-4f94-a811-732aa4d37e2d │ 2019-04-14    │\n",
      "│ NichoBI    │ Bob Dylan            │ Moonshiner (Studio Outtake - 1963) │ The Bootleg Series Volumes 1-3 (Rare And Unreleased) 1961-1991 │ 2019-04-14 14:38:08 │ 7c990c18-e171-4409-b03b-707c17ac93bd │ 75c5f0fe-ff02-4f36-bd79-9db14041b6d2 │ fd5f74ab-d932-43ff-bd6d-381afa74f1ce │ 2019-04-14    │\n",
      "│ NichoBI    │ Lisa O'Neill         │ Neillie's Song                     │ Same Cloth or Not                                              │ 2019-04-14 14:34:12 │ 6f197388-5fbf-488e-9e08-8423752a3a16 │ e6f2be88-ebe8-4d01-ac29-f7800f59586b │ c4168370-c0a1-4324-8156-4ce5b3a18503 │ 2019-04-14    │\n",
      "│ NichoBI    │ Yorkston/Thorne/Khan │ The Blues You Sang                 │ Neuk Wight Delhi All-Stars                                     │ 2019-04-14 14:27:00 │ 6b00aa30-3118-428b-819f-a2856a14754a │ 54a3ad2a-a98e-436f-b0bf-8e48c4b79106 │ b8ce6fed-2e54-4f94-a811-732aa4d37e2d │ 2019-04-14    │\n",
      "│    ·       │      ·               │         ·                          │      ·                                                         │          ·          │                  ·                   │                  ·                   │                  ·                   │     ·         │\n",
      "│    ·       │      ·               │         ·                          │      ·                                                         │          ·          │                  ·                   │                  ·                   │                  ·                   │     ·         │\n",
      "│    ·       │      ·               │         ·                          │      ·                                                         │          ·          │                  ·                   │                  ·                   │                  ·                   │     ·         │\n",
      "│ kingkool68 │ Gravediggaz          │ Diary of a Madman                  │ 6 Feet Deep                                                    │ 2019-03-20 20:09:58 │ e7f4bb8c-a692-4117-be5c-0e3667560060 │ 0e76687b-601c-40c0-bf4a-ba156dbb649c │ 137f1435-1f22-493f-8336-30b0e7c806fb │ 2019-03-20    │\n",
      "│ kingkool68 │ Beastie Boys         │ Super Disco Breakin'               │ Hello Nasty                                                    │ 2019-03-20 20:07:51 │ 539c7b11-a456-447b-8ceb-7e380596ee9f │ fe67d9b8-761c-4486-a5ab-5115860bb608 │ ad0a3aef-ea7d-4857-9ac2-69d5ff2c9fcf │ 2019-03-20    │\n",
      "│ kingkool68 │ Bush                 │ Warm Machine                       │ The Science of Things                                          │ 2019-03-20 20:03:25 │ a7462782-6ea3-45d1-accb-8e45936a15e7 │ 1515b65a-134a-464f-8e71-1662fac2a1f4 │ 6870b497-86db-489e-b80d-d9d564955acf │ 2019-03-20    │\n",
      "│ kingkool68 │ Royce da 5'9\"        │ King of Kings                      │ Rock City                                                      │ 2019-03-20 19:59:21 │ 4036f8c8-4a6f-4e4b-a049-8ebffc0f3b63 │ 9c9166cd-c26f-47ad-a843-4564e8561e66 │ 5c2c2bc4-5188-4bcd-86c2-cae1a16482b7 │ 2019-03-20    │\n",
      "│ kingkool68 │ Edan                 │ Promised Land                      │ Beauty & The Beat                                              │ 2019-03-20 19:56:55 │ 62e50754-1499-4da0-a122-0c9641f5e371 │ 0b339004-f1d8-46b3-80db-5751748211d3 │ 2a96921d-4002-4d53-a101-68ed5048e063 │ 2019-03-20    │\n",
      "│ kingkool68 │ Hole                 │ Malibu                             │ Celebrity Skin                                                 │ 2019-03-20 19:52:56 │ 42f6ea24-d078-46ac-9baa-3b702ac7f271 │ 1acdcb29-722b-4527-965a-9455902b2b90 │ 283a9d01-ce03-40b7-9420-92c02a0b7731 │ 2019-03-20    │\n",
      "│ kingkool68 │ Apparat              │ You Don’t Know Me                  │ Walls                                                          │ 2019-03-20 19:48:01 │ d0e087a0-f697-41b1-9734-7c699f092b31 │ 3fb79b1d-a613-42ea-afad-6f5db4ca50c2 │ b975fcb8-9fab-413a-86b5-ccdb4e1517ee │ 2019-03-20    │\n",
      "│ kingkool68 │ Dragonette           │ I Get Around                       │ Galore                                                         │ 2019-03-20 18:49:02 │ 9478d085-35eb-457f-9573-9b170e9a057d │ 5c4a3ec8-5fb8-4346-8bd4-f45d9f65c0af │ f708b39b-724b-4ebc-b951-70deb0d99332 │ 2019-03-20    │\n",
      "│ kingkool68 │ Atlas Sound          │ Walkabout (w/ Noah Lennox)         │ Logos                                                          │ 2019-03-20 18:45:03 │ 97d4bf19-2f99-41ef-9737-56734788fff6 │ abfd5179-3c60-45e0-9af9-64d1ba8a0ea9 │ d398a768-6e86-4965-83b4-dd2164112b35 │ 2019-03-20    │\n",
      "│ kingkool68 │ Ugly Duckling        │ The End of Time                    │ Bang for The Buck                                              │ 2019-03-20 18:40:46 │ 198f87d1-a341-483a-a293-6100226fc8bd │ 785a8c96-19ff-404e-8f35-256d0704068c │ e0b57abc-7774-4b79-90bf-b8a929955d12 │ 2019-03-20    │\n",
      "├────────────┴──────────────────────┴────────────────────────────────────┴────────────────────────────────────────────────────────────────┴─────────────────────┴──────────────────────────────────────┴──────────────────────────────────────┴──────────────────────────────────────┴───────────────┤\n",
      "│ ? rows (>9999 rows, 20 shown)                                                                                                                                                                                                                                                            9 columns │\n",
      "└────────────────────────────────────────────────────────────────────────────────────────────────────────────────────────────────────────────────────────────────────────────────────────────────────────────────────────────────────────────────────────────────────────────────────────────────────┘\n",
      "\n"
     ]
    }
   ],
   "source": [
    "def etl_load_listens(export_file_path, db_path='music_listens.db'):\n",
    "    con = duckdb.connect(db_path)\n",
    "    cur = con.cursor()\n",
    "    #cur.execute('DROP TABLE IF EXISTS listens')\n",
    "\n",
    "    # Creating table with a unique constraint on columns that identify uniqueness\n",
    "    cur.execute('''\n",
    "        CREATE TABLE IF NOT EXISTS listens (\n",
    "            user_name TEXT,\n",
    "            artist_name TEXT,\n",
    "            track_name TEXT,\n",
    "            release_name TEXT,\n",
    "            listened_at TIMESTAMP,\n",
    "            recording_msid TEXT,\n",
    "            artist_msid TEXT,\n",
    "            release_msid TEXT,\n",
    "            listened_date DATE,\n",
    "            UNIQUE (user_name, recording_msid, listened_at)\n",
    "        )\n",
    "    ''')\n",
    "    \n",
    "    cur.execute('CREATE INDEX idx_listens_listened_date ON listens(listened_date)')\n",
    "\n",
    "    with open(export_file_path, 'r') as f:\n",
    "        lines = f.readlines()\n",
    "\n",
    "    for line in lines:\n",
    "        line = line.strip()\n",
    "        if not line:\n",
    "            continue\n",
    "        try:\n",
    "            data = json.loads(line)\n",
    "\n",
    "            user_name = data.get('user_name')\n",
    "            listened_at_ts = data.get('listened_at')\n",
    "            listened_at = datetime.fromtimestamp(listened_at_ts) if listened_at_ts else None\n",
    "            recording_msid = data.get('recording_msid')\n",
    "\n",
    "\n",
    "            metadata = data.get('track_metadata', {})\n",
    "            artist_name = metadata.get('artist_name')\n",
    "            track_name = metadata.get('track_name')\n",
    "            release_name = metadata.get('release_name')\n",
    "\n",
    "            additional_info = metadata.get('additional_info', {})\n",
    "            artist_msid = additional_info.get('artist_msid')\n",
    "            release_msid = additional_info.get('release_msid')\n",
    "            listened_date = listened_at.date() if listened_at else None\n",
    "\n",
    "            cur.execute('''\n",
    "                INSERT INTO listens\n",
    "                (user_name, artist_name, track_name, release_name, listened_at, recording_msid, artist_msid, release_msid, listened_date)\n",
    "                VALUES (?, ?, ?, ?, ?, ?, ?, ?,?)\n",
    "                ON CONFLICT DO NOTHING\n",
    "            ''', (user_name, artist_name, track_name, release_name, listened_at, recording_msid, artist_msid, release_msid, listened_date))\n",
    "\n",
    "        except (json.JSONDecodeError, KeyError, ValueError) as e:\n",
    "            # Skip corrupted or incomplete lines\n",
    "            print(f\"Skipping corrupted line: {line}\\nError: {e}\")\n",
    "\n",
    "    cur.commit()\n",
    "    print(\"ETL load complete.\")\n",
    "\n",
    "    cur.table('listens').show()\n",
    "    cur.close()\n",
    "\n",
    "etl_load_listens('data/dataset.txt')"
   ]
  },
  {
   "cell_type": "markdown",
   "id": "5e2e7d99",
   "metadata": {},
   "source": [
    "### Task 2 Data Analysis"
   ]
  },
  {
   "cell_type": "markdown",
   "id": "89336968",
   "metadata": {},
   "source": [
    "#### a) Who are the top 10 users with respect to number of songs listened to?"
   ]
  },
  {
   "cell_type": "code",
   "execution_count": 4,
   "id": "55b61c7b",
   "metadata": {},
   "outputs": [
    {
     "name": "stdout",
     "output_type": "stream",
     "text": [
      "┌────────────────┬──────────────────────────┐\n",
      "│   user_name    │ number_of_songs_listened │\n",
      "│    varchar     │          int64           │\n",
      "├────────────────┼──────────────────────────┤\n",
      "│ hds            │                    46885 │\n",
      "│ Groschi        │                    14959 │\n",
      "│ Silent Singer  │                    13005 │\n",
      "│ phdnk          │                    12861 │\n",
      "│ 6d6f7274686f6e │                    11544 │\n",
      "│ reverbel       │                     8398 │\n",
      "│ Cl�psHydra     │                     8318 │\n",
      "│ InvincibleAsia │                     7804 │\n",
      "│ cimualte       │                     7356 │\n",
      "│ inhji          │                     6349 │\n",
      "├────────────────┴──────────────────────────┤\n",
      "│ 10 rows                         2 columns │\n",
      "└───────────────────────────────────────────┘\n",
      "\n"
     ]
    }
   ],
   "source": [
    "con = duckdb.connect('music_listens.db')\n",
    "cur = con.cursor()\n",
    "\n",
    "cur.sql('''\n",
    "    SELECT \n",
    "        user_name, \n",
    "        COUNT(user_name) AS number_of_songs_listened\n",
    "    FROM listens\n",
    "    GROUP BY user_name\n",
    "    ORDER BY number_of_songs_listened DESC\n",
    "    LIMIT 10\n",
    "''').show()"
   ]
  },
  {
   "cell_type": "markdown",
   "id": "929bb18f",
   "metadata": {},
   "source": [
    "#### How many users did listen to some song on the 1st of March 2019?"
   ]
  },
  {
   "cell_type": "code",
   "execution_count": 5,
   "id": "9dda5d0b",
   "metadata": {},
   "outputs": [
    {
     "name": "stdout",
     "output_type": "stream",
     "text": [
      "┌───────┐\n",
      "│ count │\n",
      "│ int64 │\n",
      "├───────┤\n",
      "│  2522 │\n",
      "└───────┘\n",
      "\n"
     ]
    }
   ],
   "source": [
    "cur.sql('''\n",
    "    SELECT   \n",
    "        COUNT(user_name) AS count\n",
    "    FROM listens\n",
    "    WHERE listened_date = '2019-03-01'\n",
    "        ''').show()"
   ]
  },
  {
   "cell_type": "markdown",
   "id": "89991053",
   "metadata": {},
   "source": [
    "#### For every user, what was the first song the user listened to?"
   ]
  },
  {
   "cell_type": "code",
   "execution_count": 6,
   "id": "07137b8d",
   "metadata": {},
   "outputs": [
    {
     "name": "stdout",
     "output_type": "stream",
     "text": [
      "┌─────────────────┬───────────────────────────────────────────────┐\n",
      "│    user_name    │                  track_name                   │\n",
      "│     varchar     │                    varchar                    │\n",
      "├─────────────────┼───────────────────────────────────────────────┤\n",
      "│ toby3d          │ For the Damaged Coda                          │\n",
      "│ Mexikola        │ Still Clean                                   │\n",
      "│ Wolfynight      │ Brainless                                     │\n",
      "│ shogazefan      │ Pange linqua gloriosi, BuxWV 91               │\n",
      "│ bojarin3        │ Marionette                                    │\n",
      "│ InvincibleAsia  │ Love Hurts                                    │\n",
      "│ Zastai          │ Fear                                          │\n",
      "│ AscendedGravity │ Amoeba                                        │\n",
      "│ cirfis          │ Crossing the Frame                            │\n",
      "│ Tinymeat        │ A deep sea meditation experience              │\n",
      "│    ·            │             ·                                 │\n",
      "│    ·            │             ·                                 │\n",
      "│    ·            │             ·                                 │\n",
      "│ slideyfoot      │ Are You That Kind of Girl?                    │\n",
      "│ naesk           │ Running to the Sea                            │\n",
      "│ clinford86      │ Hush Little Baby                              │\n",
      "│ gondoi          │ Sunflower (Spider-Man: Into the Spider-Verse) │\n",
      "│ arcadian99      │ Crying                                        │\n",
      "│ pbm367          │ Not a Damn Thing Changed                      │\n",
      "│ lemarac         │ Electronic Performers                         │\n",
      "│ Shunpike        │ Kodac Moment                                  │\n",
      "│ inhji           │ Cthulhu                                       │\n",
      "│ Silent Singer   │ Mr. Tillman                                   │\n",
      "├─────────────────┴───────────────────────────────────────────────┤\n",
      "│ 202 rows (20 shown)                                   2 columns │\n",
      "└─────────────────────────────────────────────────────────────────┘\n",
      "\n"
     ]
    }
   ],
   "source": [
    "cur.sql('''\n",
    "    WITH first_song AS(\n",
    "        SELECT \n",
    "            user_name, \n",
    "            MIN(listened_at) as listened_at \n",
    "        FROM listens group by  user_name)\n",
    "\n",
    "    SELECT \n",
    "        DISTINCT f.user_name, \n",
    "        l.track_name \n",
    "    FROM listens l\n",
    "    JOIN first_song f ON f.listened_at = l.listened_at AND l.user_name = f.user_name\n",
    "        ''').show()"
   ]
  },
  {
   "cell_type": "markdown",
   "id": "227271a6",
   "metadata": {},
   "source": [
    "#### b) Top 3 Listening Days per User"
   ]
  },
  {
   "cell_type": "code",
   "execution_count": 7,
   "id": "2e85bb9c",
   "metadata": {},
   "outputs": [
    {
     "name": "stdout",
     "output_type": "stream",
     "text": [
      "┌─────────────────┬───────────────────┬────────────┐\n",
      "│    user_name    │ number_of_listens │    date    │\n",
      "│     varchar     │       int64       │    date    │\n",
      "├─────────────────┼───────────────────┼────────────┤\n",
      "│ 6d6f7274686f6e  │               200 │ 2019-01-27 │\n",
      "│ 6d6f7274686f6e  │               195 │ 2019-01-14 │\n",
      "│ 6d6f7274686f6e  │               193 │ 2019-01-16 │\n",
      "│ Adsky_traktor   │               109 │ 2019-01-03 │\n",
      "│ Adsky_traktor   │                99 │ 2019-01-05 │\n",
      "│ Adsky_traktor   │                86 │ 2019-01-04 │\n",
      "│ AllSparks       │               114 │ 2019-01-31 │\n",
      "│ AllSparks       │                81 │ 2019-01-23 │\n",
      "│ AllSparks       │                71 │ 2019-01-11 │\n",
      "│ AlwinHummels    │                 1 │ 2019-02-24 │\n",
      "│    ·            │                 · │     ·      │\n",
      "│    ·            │                 · │     ·      │\n",
      "│    ·            │                 · │     ·      │\n",
      "│ yellams         │               157 │ 2019-02-15 │\n",
      "│ zebedeemcdougal │                81 │ 2019-02-02 │\n",
      "│ zebedeemcdougal │                75 │ 2019-01-11 │\n",
      "│ zebedeemcdougal │                74 │ 2019-02-22 │\n",
      "│ zergut          │               120 │ 2019-01-02 │\n",
      "│ zergut          │                59 │ 2019-02-26 │\n",
      "│ zergut          │                42 │ 2019-03-05 │\n",
      "│ †AtzzkiySotona† │                39 │ 2019-01-09 │\n",
      "│ †AtzzkiySotona† │                37 │ 2019-03-21 │\n",
      "│ †AtzzkiySotona† │                35 │ 2019-03-19 │\n",
      "├─────────────────┴───────────────────┴────────────┤\n",
      "│ 577 rows (20 shown)                    3 columns │\n",
      "└──────────────────────────────────────────────────┘\n",
      "\n"
     ]
    }
   ],
   "source": [
    "cur.sql(''' \n",
    "    WITH top_listen AS (\n",
    "        SELECT\n",
    "            user_name,\n",
    "            listened_date AS date,\n",
    "            COUNT(*) AS number_of_listens,\n",
    "\t\t    ROW_NUMBER() OVER (\n",
    "                PARTITION BY user_name\n",
    "                ORDER BY COUNT(*) DESC\n",
    "            ) AS rn\n",
    "        FROM listens\n",
    "        GROUP BY user_name, listened_date\n",
    "    )\n",
    "    SELECT\n",
    "        user_name,\n",
    "        number_of_listens,\n",
    "        date\n",
    "    FROM top_listen\n",
    "    WHERE rn <= 3\n",
    "    ORDER BY user_name, number_of_listens DESC;\n",
    "        ''').show()"
   ]
  },
  {
   "cell_type": "markdown",
   "id": "8692d646",
   "metadata": {},
   "source": [
    "#### c) Daily Active Users and Their Percentage of Total Users"
   ]
  },
  {
   "cell_type": "code",
   "execution_count": 8,
   "id": "4f873a60",
   "metadata": {},
   "outputs": [
    {
     "name": "stdout",
     "output_type": "stream",
     "text": [
      "┌────────────┬─────────────────────┬─────────────────────────┐\n",
      "│    date    │ number_active_users │ percentage_active_users │\n",
      "│    date    │        int64        │         double          │\n",
      "├────────────┼─────────────────────┼─────────────────────────┤\n",
      "│ 2019-01-01 │                  70 │                   34.65 │\n",
      "│ 2019-01-02 │                  95 │                   47.03 │\n",
      "│ 2019-01-03 │                 102 │                    50.5 │\n",
      "│ 2019-01-04 │                 107 │                   52.97 │\n",
      "│ 2019-01-05 │                 108 │                   53.47 │\n",
      "│ 2019-01-06 │                 110 │                   54.46 │\n",
      "│ 2019-01-07 │                 114 │                   56.44 │\n",
      "│ 2019-01-08 │                 113 │                   55.94 │\n",
      "│ 2019-01-09 │                 115 │                   56.93 │\n",
      "│ 2019-01-10 │                 115 │                   56.93 │\n",
      "│     ·      │                   · │                     ·   │\n",
      "│     ·      │                   · │                     ·   │\n",
      "│     ·      │                   · │                     ·   │\n",
      "│ 2019-04-06 │                  97 │                   48.02 │\n",
      "│ 2019-04-07 │                  95 │                   47.03 │\n",
      "│ 2019-04-08 │                  95 │                   47.03 │\n",
      "│ 2019-04-09 │                  95 │                   47.03 │\n",
      "│ 2019-04-10 │                  93 │                   46.04 │\n",
      "│ 2019-04-11 │                  92 │                   45.54 │\n",
      "│ 2019-04-12 │                  93 │                   46.04 │\n",
      "│ 2019-04-13 │                  97 │                   48.02 │\n",
      "│ 2019-04-14 │                  99 │                   49.01 │\n",
      "│ 2019-04-15 │                  96 │                   47.52 │\n",
      "├────────────┴─────────────────────┴─────────────────────────┤\n",
      "│ 105 rows (20 shown)                              3 columns │\n",
      "└────────────────────────────────────────────────────────────┘\n",
      "\n"
     ]
    }
   ],
   "source": [
    "cur.sql(''' \n",
    "    WITH calendar AS (\n",
    "        SELECT DISTINCT listened_date FROM listens\n",
    "    ), \n",
    "    rolling_window AS (\n",
    "        SELECT\n",
    "            d.listened_date AS date,\n",
    "            l.user_name\n",
    "        FROM calendar d\n",
    "        JOIN listens l\n",
    "            ON l.listened_date BETWEEN d.listened_date - INTERVAL '6 days' AND d.listened_date\n",
    "    )\n",
    "    SELECT\n",
    "        date,\n",
    "        COUNT(DISTINCT user_name) AS number_active_users,\n",
    "        ROUND(COUNT(DISTINCT user_name) * 100.0 / (\n",
    "            SELECT COUNT(DISTINCT user_name) FROM listens\n",
    "        ), 2) AS percentage_active_users\n",
    "    FROM rolling_window\n",
    "    GROUP BY date\n",
    "    ORDER BY date\n",
    "''').show()"
   ]
  }
 ],
 "metadata": {
  "kernelspec": {
   "display_name": "Python 3",
   "language": "python",
   "name": "python3"
  },
  "language_info": {
   "codemirror_mode": {
    "name": "ipython",
    "version": 3
   },
   "file_extension": ".py",
   "mimetype": "text/x-python",
   "name": "python",
   "nbconvert_exporter": "python",
   "pygments_lexer": "ipython3",
   "version": "3.11.2"
  }
 },
 "nbformat": 4,
 "nbformat_minor": 5
}
